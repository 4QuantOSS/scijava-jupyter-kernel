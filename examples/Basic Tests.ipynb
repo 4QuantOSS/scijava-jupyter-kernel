{
 "cells": [
  {
   "cell_type": "code",
   "execution_count": 13,
   "metadata": {},
   "outputs": [
    {
     "name": "stdout",
     "output_type": "stream",
     "text": [
      "2.7.0 (default:9987c746f838, Apr 29 2015, 02:25:11) \n",
      "[Java HotSpot(TM) 64-Bit Server VM (Oracle Corporation)]\n",
      "['/mnt/3E9E5FC39E5F71FF/Linux_Opt/local/Fiji.app/jars/Lib', '/mnt/3E9E5FC39E5F71FF/Linux_Opt/local/Fiji.app/jars/jython-shaded-2.7.0.jar/Lib', '__classpath__', '__pyclasspath__/']\n"
     ]
    },
    {
     "data": {
      "text/plain": []
     },
     "execution_count": 13,
     "metadata": {},
     "output_type": "execute_result"
    }
   ],
   "source": [
    "# Print Jython version\n",
    "\n",
    "import sys\n",
    "\n",
    "print(sys.version)\n",
    "print(sys.path)"
   ]
  },
  {
   "cell_type": "code",
   "execution_count": 12,
   "metadata": {},
   "outputs": [
    {
     "data": {
      "text/plain": []
     },
     "execution_count": 12,
     "metadata": {},
     "output_type": "execute_result"
    }
   ],
   "source": [
    "# Test various imports\n",
    "\n",
    "from java.lang.System import getProperty\n",
    "\n",
    "import ij.IJ\n",
    "from ij.plugin.frame import RoiManager\n",
    "\n",
    "from net.imglib2.util import Intervals\n",
    "from net.imglib2.view import Views"
   ]
  },
  {
   "cell_type": "code",
   "execution_count": 21,
   "metadata": {},
   "outputs": [
    {
     "data": {
      "text/plain": []
     },
     "execution_count": 21,
     "metadata": {},
     "output_type": "execute_result"
    }
   ],
   "source": [
    "# Create a random image and display it\n",
    "\n",
    "from java.util import Random\n",
    "from net.imglib2.img.array import ArrayImgs\n",
    "from net.imglib2.img.display.imagej import ImageJFunctions\n",
    "\n",
    "random = Random()\n",
    "img = ArrayImgs.argbs(100, 100)\n",
    "for t in img:\n",
    "    t.set(random.nextInt())\n",
    "    \n",
    "ImageJFunctions.show(img) # That should open the good old IJ1 interface"
   ]
  }
 ],
 "metadata": {
  "kernelspec": {
   "display_name": "Scijava Kernel - Jython",
   "language": "python",
   "name": "scijava-test"
  },
  "language_info": {
   "codemirror_mode": "python",
   "file_extension": ".py",
   "mimetype": "",
   "name": "Jython",
   "nbconverter_exporter": "",
   "pygments_lexer": "python",
   "version": "2.7"
  }
 },
 "nbformat": 4,
 "nbformat_minor": 2
}
