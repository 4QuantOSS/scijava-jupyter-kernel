{
 "cells": [
  {
   "cell_type": "code",
   "execution_count": 1,
   "metadata": {},
   "outputs": [],
   "source": [
    "#!groovy\n",
    "// @NotebookService nb\n",
    "// @PlotService plt"
   ]
  },
  {
   "cell_type": "code",
   "execution_count": 7,
   "metadata": {},
   "outputs": [],
   "source": [
    "plot = plt.newPlot(\"Bar Chart\")\n",
    "plot.setDescription(\"A simple bar chart with embedded data.\")\n",
    "\n",
    "x = plt.newChannel('a', 'ordinal')\n",
    "plot.getEncoding().setX(x)\n",
    "\n",
    "y = plt.newChannel('b', 'quantitative')\n",
    "plot.getEncoding().setY(y)\n",
    "\n",
    "plot.getMark().setType(\"bar\")\n",
    "\n",
    "data = [[\"a\": \"A\",\"b\": 28], [\"a\": \"B\",\"b\": 55], [\"a\": \"C\",\"b\": 43],\n",
    "        [\"a\": \"D\",\"b\": 91], [\"a\": \"E\",\"b\": 81], [\"a\": \"F\",\"b\": 53],\n",
    "        [\"a\": \"G\",\"b\": 19], [\"a\": \"H\",\"b\": 87], [\"a\": \"I\",\"b\": 52]\n",
    "       ]\n",
    "\n",
    "plot.getData().setValues(data)"
   ]
  },
  {
   "cell_type": "markdown",
   "metadata": {},
   "source": [
    "You can render `VegaPlot` using the notebook converter or with `nb.vegalite()`."
   ]
  },
  {
   "cell_type": "code",
   "execution_count": 8,
   "metadata": {},
   "outputs": [
    {
     "data": {
      "application/vnd.vegalite.v2+json": {
       "autoResize": false,
       "config": {},
       "data": {
        "values": [
         {
          "a": "A",
          "b": 28
         },
         {
          "a": "B",
          "b": 55
         },
         {
          "a": "C",
          "b": 43
         },
         {
          "a": "D",
          "b": 91
         },
         {
          "a": "E",
          "b": 81
         },
         {
          "a": "F",
          "b": 53
         },
         {
          "a": "G",
          "b": 19
         },
         {
          "a": "H",
          "b": 87
         },
         {
          "a": "I",
          "b": 52
         }
        ]
       },
       "description": "A simple bar chart with embedded data.",
       "encoding": {
        "color": {
         "axis": true,
         "legend": false
        },
        "column": {
         "axis": true,
         "legend": false
        },
        "detail": {
         "axis": true,
         "legend": false
        },
        "opacity": {
         "axis": true,
         "legend": false
        },
        "order": {
         "axis": true,
         "legend": false
        },
        "row": {
         "axis": true,
         "legend": false
        },
        "shape": {
         "axis": true,
         "legend": false
        },
        "size": {
         "axis": true,
         "legend": false
        },
        "text": {
         "axis": true,
         "legend": false
        },
        "tooltip": {
         "axis": true,
         "legend": false
        },
        "x": {
         "axis": true,
         "field": "a",
         "legend": false,
         "type": "ordinal"
        },
        "y": {
         "axis": true,
         "field": "b",
         "legend": false,
         "type": "quantitative"
        }
       },
       "height": 0,
       "mark": {
        "filled": true,
        "type": "bar"
       },
       "name": "Bar Chart",
       "padding": 0,
       "schema": "https://vega.github.io/schema/vega-lite/v2.json",
       "selection": {},
       "transform": null,
       "width": 0
      }
     },
     "execution_count": 8,
     "metadata": {},
     "output_type": "execute_result"
    }
   ],
   "source": [
    "plot"
   ]
  },
  {
   "cell_type": "code",
   "execution_count": 9,
   "metadata": {},
   "outputs": [
    {
     "data": {
      "application/vnd.vegalite.v2+json": {
       "autoResize": false,
       "config": {},
       "data": {
        "values": [
         {
          "a": "A",
          "b": 28
         },
         {
          "a": "B",
          "b": 55
         },
         {
          "a": "C",
          "b": 43
         },
         {
          "a": "D",
          "b": 91
         },
         {
          "a": "E",
          "b": 81
         },
         {
          "a": "F",
          "b": 53
         },
         {
          "a": "G",
          "b": 19
         },
         {
          "a": "H",
          "b": 87
         },
         {
          "a": "I",
          "b": 52
         }
        ]
       },
       "description": "A simple bar chart with embedded data.",
       "encoding": {
        "color": {
         "axis": true,
         "legend": false
        },
        "column": {
         "axis": true,
         "legend": false
        },
        "detail": {
         "axis": true,
         "legend": false
        },
        "opacity": {
         "axis": true,
         "legend": false
        },
        "order": {
         "axis": true,
         "legend": false
        },
        "row": {
         "axis": true,
         "legend": false
        },
        "shape": {
         "axis": true,
         "legend": false
        },
        "size": {
         "axis": true,
         "legend": false
        },
        "text": {
         "axis": true,
         "legend": false
        },
        "tooltip": {
         "axis": true,
         "legend": false
        },
        "x": {
         "axis": true,
         "field": "a",
         "legend": false,
         "type": "ordinal"
        },
        "y": {
         "axis": true,
         "field": "b",
         "legend": false,
         "type": "quantitative"
        }
       },
       "height": 0,
       "mark": {
        "filled": true,
        "type": "bar"
       },
       "name": "Bar Chart",
       "padding": 0,
       "schema": "https://vega.github.io/schema/vega-lite/v2.json",
       "selection": {},
       "transform": null,
       "width": 0
      }
     },
     "execution_count": 9,
     "metadata": {},
     "output_type": "execute_result"
    }
   ],
   "source": [
    "nb.vegalite(plt.toJson(plot))"
   ]
  },
  {
   "cell_type": "code",
   "execution_count": 10,
   "metadata": {},
   "outputs": [
    {
     "data": {
      "text/plain": [
       "{\"schema\":\"https://vega.github.io/schema/vega-lite/v2.json\",\"padding\":0,\"autoResize\":false,\"config\":{},\"name\":\"Bar Chart\",\"description\":\"A simple bar chart with embedded data.\",\"width\":0,\"height\":0,\"data\":{\"values\":[{\"a\":\"A\",\"b\":28},{\"a\":\"B\",\"b\":55},{\"a\":\"C\",\"b\":43},{\"a\":\"D\",\"b\":91},{\"a\":\"E\",\"b\":81},{\"a\":\"F\",\"b\":53},{\"a\":\"G\",\"b\":19},{\"a\":\"H\",\"b\":87},{\"a\":\"I\",\"b\":52}]},\"transform\":null,\"selection\":{},\"mark\":{\"type\":\"bar\",\"filled\":true},\"encoding\":{\"x\":{\"field\":\"a\",\"type\":\"ordinal\",\"axis\":true,\"legend\":false},\"y\":{\"field\":\"b\",\"type\":\"quantitative\",\"axis\":true,\"legend\":false},\"row\":{\"axis\":true,\"legend\":false},\"column\":{\"axis\":true,\"legend\":false},\"color\":{\"axis\":true,\"legend\":false},\"order\":{\"axis\":true,\"legend\":false},\"shape\":{\"axis\":true,\"legend\":false},\"size\":{\"axis\":true,\"legend\":false},\"opacity\":{\"axis\":true,\"legend\":false},\"text\":{\"axis\":true,\"legend\":false},\"tooltip\":{\"axis\":true,\"legend\":false},\"detail\":{\"axis\":true,\"legend\":false}}}"
      ]
     },
     "execution_count": 10,
     "metadata": {},
     "output_type": "execute_result"
    }
   ],
   "source": [
    "plt.toJson(plot)"
   ]
  }
 ],
 "metadata": {
  "kernelspec": {
   "display_name": "SciJava",
   "language": "groovy",
   "name": "scijava"
  },
  "language_info": {
   "codemirror_mode": "groovy",
   "file_extension": "",
   "mimetype": "",
   "name": "scijava",
   "nbconverter_exporter": "",
   "pygments_lexer": "groovy",
   "version": "1.0"
  }
 },
 "nbformat": 4,
 "nbformat_minor": 2
}
