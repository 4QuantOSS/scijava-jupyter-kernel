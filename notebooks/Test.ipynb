{
 "cells": [
  {
   "cell_type": "markdown",
   "metadata": {},
   "source": [
    "# Test Notebook\n",
    "\n",
    "This is a test notebook that is run for each new commit of the `scijava-jupyter-kernel`. The idea is to test all the important features of the kernel."
   ]
  },
  {
   "cell_type": "code",
   "execution_count": 1,
   "metadata": {},
   "outputs": [
    {
     "name": "stdout",
     "output_type": "stream",
     "text": [
      "Basic print\n"
     ]
    },
    {
     "data": {
      "text/plain": [
       "No Outputs"
      ]
     },
     "execution_count": 1,
     "metadata": {},
     "output_type": "execute_result"
    }
   ],
   "source": [
    "println \"Basic print\""
   ]
  },
  {
   "cell_type": "code",
   "execution_count": 2,
   "metadata": {},
   "outputs": [
    {
     "name": "stdout",
     "output_type": "stream",
     "text": [
      "[INFO] Test the script parameter\n"
     ]
    },
    {
     "data": {
      "text/plain": [
       "No Outputs"
      ]
     },
     "execution_count": 2,
     "metadata": {},
     "output_type": "execute_result"
    }
   ],
   "source": [
    "#!groovy\n",
    "// @LogService log\n",
    "log.info(\"Test the script parameter\")"
   ]
  },
  {
   "cell_type": "markdown",
   "metadata": {},
   "source": [
    "The below cells are disabled because Travis fails to run them..."
   ]
  },
  {
   "cell_type": "markdown",
   "metadata": {},
   "source": [
    "// @NotebookService nb\n",
    "a_groovy_dict = [a_string: 'Hello', a_number: 87]\n",
    "nb.display(a_groovy_dict)"
   ]
  },
  {
   "cell_type": "markdown",
   "metadata": {},
   "source": [
    "#!python\n",
    "import sys\n",
    "print(\"Test python language\")\n",
    "print(sys.version)"
   ]
  },
  {
   "cell_type": "markdown",
   "metadata": {},
   "source": [
    "#!groovy"
   ]
  },
  {
   "cell_type": "markdown",
   "metadata": {},
   "source": [
    "println \"This is groovy code\""
   ]
  },
  {
   "cell_type": "markdown",
   "metadata": {},
   "source": [
    "#!python\n",
    "print(a_groovy_dict[\"a_string\"])\n",
    "print(a_groovy_dict[\"a_number\"])\n",
    "\n",
    "assert(a_groovy_dict[\"a_string\"] == \"Hello\")\n",
    "assert(a_groovy_dict[\"a_number\"] == 87)"
   ]
  }
 ],
 "metadata": {
  "kernelspec": {
   "display_name": "Scijava",
   "language": "groovy",
   "name": "scijava"
  },
  "language_info": {
   "codemirror_mode": "groovy",
   "file_extension": "",
   "mimetype": "",
   "name": "scijava",
   "nbconverter_exporter": "",
   "pygments_lexer": "groovy",
   "version": "1.0"
  }
 },
 "nbformat": 4,
 "nbformat_minor": 2
}
