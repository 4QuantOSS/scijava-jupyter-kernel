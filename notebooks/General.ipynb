{
 "cells": [
  {
   "cell_type": "code",
   "execution_count": null,
   "metadata": {
    "collapsed": true
   },
   "outputs": [],
   "source": []
  }
 ],
 "metadata": {
  "kernelspec": {
   "display_name": "Scijava - Groovy",
   "language": "Groovy",
   "name": "scijava-groovy"
  },
  "language_info": {
   "codemirror_mode": "Groovy",
   "file_extension": "[groovy]",
   "mimetype": "[]",
   "name": "Groovy",
   "nbconverter_exporter": "",
   "pygments_lexer": "Groovy",
   "version": "1.5.6"
  }
 },
 "nbformat": 4,
 "nbformat_minor": 2
}
