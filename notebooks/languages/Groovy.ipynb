{
 "cells": [
  {
   "cell_type": "code",
   "execution_count": 11,
   "metadata": {},
   "outputs": [
    {
     "name": "stdout",
     "output_type": "stream",
     "text": [
      "The Groovy version is 2.3.6\n"
     ]
    },
    {
     "data": {
      "text/plain": [
       "null"
      ]
     },
     "execution_count": 11,
     "metadata": {},
     "output_type": "execute_result"
    }
   ],
   "source": [
    "println \"The Groovy version is \" + GroovySystem.version"
   ]
  },
  {
   "cell_type": "markdown",
   "metadata": {},
   "source": [
    "The following packages are imported automatically by default : \n",
    "\n",
    "- `java.io.*`\n",
    "- `java.lang.*`\n",
    "- `java.math.BigDecimal`\n",
    "- `java.math.BigInteger`\n",
    "- `java.net.*`\n",
    "- `java.util.*`\n",
    "- `groovy.lang.*`\n",
    "- `groovy.util.*`"
   ]
  },
  {
   "cell_type": "code",
   "execution_count": 13,
   "metadata": {},
   "outputs": [
    {
     "name": "stdout",
     "output_type": "stream",
     "text": [
      "Hello Groovy!\n"
     ]
    },
    {
     "data": {
      "text/plain": [
       "null"
      ]
     },
     "execution_count": 13,
     "metadata": {},
     "output_type": "execute_result"
    }
   ],
   "source": [
    "class HelloWorld {\n",
    "   def greet( name ){\n",
    "      \"Hello ${name}!\"\n",
    "   }\n",
    "}\n",
    "\n",
    "def hm = new HelloWorld()\n",
    "println hm.greet(\"Groovy\")"
   ]
  },
  {
   "cell_type": "code",
   "execution_count": 14,
   "metadata": {},
   "outputs": [
    {
     "name": "stdout",
     "output_type": "stream",
     "text": [
      "2\n",
      "4\n",
      "6\n",
      "8\n",
      "10\n"
     ]
    },
    {
     "data": {
      "text/plain": [
       "null"
      ]
     },
     "execution_count": 14,
     "metadata": {},
     "output_type": "execute_result"
    }
   ],
   "source": [
    "def pickEven(n, block) {\n",
    "    for (int i=2; i <= n; i += 2) {\n",
    "        block(i)\n",
    "    }\n",
    "}\n",
    "\n",
    "pickEven(10) {\n",
    "    println it\n",
    "}"
   ]
  }
 ],
 "metadata": {
  "kernelspec": {
   "display_name": "Scijava - Groovy",
   "language": "Groovy",
   "name": "scijava-groovy"
  },
  "language_info": {
   "codemirror_mode": "Groovy",
   "file_extension": "[groovy]",
   "mimetype": "[]",
   "name": "Groovy",
   "nbconverter_exporter": "",
   "pygments_lexer": "Groovy",
   "version": "1.5.6"
  }
 },
 "nbformat": 4,
 "nbformat_minor": 2
}
