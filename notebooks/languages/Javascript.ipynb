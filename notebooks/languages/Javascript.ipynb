{
 "cells": [
  {
   "cell_type": "code",
   "execution_count": null,
   "metadata": {
    "collapsed": true
   },
   "outputs": [],
   "source": []
  }
 ],
 "metadata": {
  "kernelspec": {
   "display_name": "Scijava - JavaScript",
   "language": "JavaScript",
   "name": "scijava-javascript"
  },
  "language_info": {
   "codemirror_mode": "JavaScript",
   "file_extension": "[js]",
   "mimetype": "[application/javascript, application/ecmascript, text/javascript, text/ecmascript]",
   "name": "JavaScript",
   "nbconverter_exporter": "",
   "pygments_lexer": "JavaScript",
   "version": "ECMA - 262 Edition 5.1"
  }
 },
 "nbformat": 4,
 "nbformat_minor": 2
}
