{
 "cells": [
  {
   "cell_type": "code",
   "execution_count": 4,
   "metadata": {},
   "outputs": [
    {
     "name": "stdout",
     "output_type": "stream",
     "text": [
      "Hello World :-)\n"
     ]
    },
    {
     "data": {
      "text/plain": [
       "null"
      ]
     },
     "execution_count": 4,
     "metadata": {},
     "output_type": "execute_result"
    }
   ],
   "source": [
    "print(\"Hello World :-)\");"
   ]
  },
  {
   "cell_type": "code",
   "execution_count": 9,
   "metadata": {},
   "outputs": [
    {
     "name": "stdout",
     "output_type": "stream",
     "text": [
      "Good day\n"
     ]
    },
    {
     "data": {
      "text/plain": [
       "null"
      ]
     },
     "execution_count": 9,
     "metadata": {},
     "output_type": "execute_result"
    }
   ],
   "source": [
    "time = 18\n",
    "\n",
    "if (time < 10) {\n",
    "    greeting = \"Good morning\";\n",
    "} else if (time < 20) {\n",
    "    greeting = \"Good day\";\n",
    "} else {\n",
    "    greeting = \"Good evening\";\n",
    "}\n",
    "\n",
    "print(greeting)"
   ]
  },
  {
   "cell_type": "code",
   "execution_count": 8,
   "metadata": {},
   "outputs": [
    {
     "name": "stdout",
     "output_type": "stream",
     "text": [
      "BMW\n",
      "Volvo\n",
      "Saab\n",
      "Ford\n",
      "\n"
     ]
    },
    {
     "data": {
      "text/plain": [
       "null"
      ]
     },
     "execution_count": 8,
     "metadata": {},
     "output_type": "execute_result"
    }
   ],
   "source": [
    "var cars = [\"BMW\", \"Volvo\", \"Saab\", \"Ford\"];\n",
    "var i = 0;\n",
    "var text = \"\";\n",
    "\n",
    "for (;cars[i];) {\n",
    "    text += cars[i] + \"\\n\";\n",
    "    i++;\n",
    "}\n",
    "\n",
    "print(text);"
   ]
  }
 ],
 "metadata": {
  "kernelspec": {
   "display_name": "Scijava - JavaScript",
   "language": "JavaScript",
   "name": "scijava-javascript"
  },
  "language_info": {
   "codemirror_mode": "JavaScript",
   "file_extension": "[js]",
   "mimetype": "[application/javascript, application/ecmascript, text/javascript, text/ecmascript]",
   "name": "JavaScript",
   "nbconverter_exporter": "",
   "pygments_lexer": "JavaScript",
   "version": "ECMA - 262 Edition 5.1"
  }
 },
 "nbformat": 4,
 "nbformat_minor": 2
}
