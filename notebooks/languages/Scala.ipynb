{
 "cells": [
  {
   "cell_type": "code",
   "execution_count": 1,
   "metadata": {},
   "outputs": [
    {
     "data": {
      "text/plain": [
       "Scala library version 2.12.1 -- Copyright 2002-2016, LAMP/EPFL and Lightbend, Inc."
      ]
     },
     "execution_count": 1,
     "metadata": {},
     "output_type": "execute_result"
    }
   ],
   "source": [
    "scala.util.Properties.versionMsg"
   ]
  },
  {
   "cell_type": "code",
   "execution_count": 2,
   "metadata": {},
   "outputs": [
    {
     "data": {
      "text/plain": [
       "null"
      ]
     },
     "execution_count": 2,
     "metadata": {},
     "output_type": "execute_result"
    }
   ],
   "source": [
    "class Point(val xc: Int, val yc: Int) {\n",
    "   var x: Int = xc\n",
    "   var y: Int = yc\n",
    "   \n",
    "   def move(dx: Int, dy: Int) {\n",
    "      x = x + dx\n",
    "      y = y + dy\n",
    "      println(\"Point x location : \" + x);\n",
    "      println(\"Point y location : \" + y);\n",
    "   }\n",
    "}\n",
    "\n",
    "val pt = new Point(10, 20);\n",
    "// Move to a new location\n",
    "pt.move(10, 10);"
   ]
  }
 ],
 "metadata": {
  "kernelspec": {
   "display_name": "Scijava - Scala",
   "language": "Scala",
   "name": "scijava-scala"
  },
  "language_info": {
   "codemirror_mode": "Scala",
   "file_extension": "[scala]",
   "mimetype": "[application/x-scala]",
   "name": "Scala",
   "nbconverter_exporter": "",
   "pygments_lexer": "Scala",
   "version": "version 2.12.1"
  }
 },
 "nbformat": 4,
 "nbformat_minor": 2
}
