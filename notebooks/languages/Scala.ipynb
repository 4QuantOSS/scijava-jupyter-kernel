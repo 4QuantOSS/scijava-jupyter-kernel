{
 "cells": [
  {
   "cell_type": "code",
   "execution_count": null,
   "metadata": {
    "collapsed": true
   },
   "outputs": [],
   "source": []
  }
 ],
 "metadata": {
  "kernelspec": {
   "display_name": "Scijava - Scala",
   "language": "Scala",
   "name": "scijava-scala"
  },
  "language_info": {
   "codemirror_mode": "Scala",
   "file_extension": "[scala]",
   "mimetype": "[application/x-scala]",
   "name": "Scala",
   "nbconverter_exporter": "",
   "pygments_lexer": "Scala",
   "version": "version 2.12.1"
  }
 },
 "nbformat": 4,
 "nbformat_minor": 2
}
