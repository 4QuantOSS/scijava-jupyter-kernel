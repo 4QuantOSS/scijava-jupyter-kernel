{
 "cells": [
  {
   "cell_type": "code",
   "execution_count": null,
   "metadata": {
    "collapsed": true
   },
   "outputs": [],
   "source": []
  }
 ],
 "metadata": {
  "kernelspec": {
   "display_name": "Scijava - BeanShell",
   "language": "BeanShell",
   "name": "scijava-beanshell"
  },
  "language_info": {
   "codemirror_mode": "BeanShell",
   "file_extension": "[bsh, bs]",
   "mimetype": "[]",
   "name": "BeanShell",
   "nbconverter_exporter": "",
   "pygments_lexer": "BeanShell",
   "version": "0.3.1"
  }
 },
 "nbformat": 4,
 "nbformat_minor": 2
}
