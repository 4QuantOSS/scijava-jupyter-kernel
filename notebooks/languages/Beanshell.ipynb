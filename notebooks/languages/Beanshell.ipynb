{
 "cells": [
  {
   "cell_type": "code",
   "execution_count": 2,
   "metadata": {},
   "outputs": [
    {
     "name": "stdout",
     "output_type": "stream",
     "text": [
      "BeanShell 2.0b6 - by Pat Niemeyer (pat@pat.net)\n"
     ]
    },
    {
     "data": {
      "text/plain": [
       "null"
      ]
     },
     "execution_count": 2,
     "metadata": {},
     "output_type": "execute_result"
    }
   ],
   "source": [
    "printBanner();"
   ]
  },
  {
   "cell_type": "code",
   "execution_count": 5,
   "metadata": {},
   "outputs": [
    {
     "name": "stdout",
     "output_type": "stream",
     "text": [
      "1493250700406\n",
      "0\n",
      "1\n",
      "2\n",
      "3\n",
      "4\n"
     ]
    },
    {
     "data": {
      "text/plain": [
       "null"
      ]
     },
     "execution_count": 5,
     "metadata": {},
     "output_type": "execute_result"
    }
   ],
   "source": [
    "Hashtable hashtable = new Hashtable();\n",
    "Date date = new Date();\n",
    "hashtable.put( \"today\", date );\n",
    "\n",
    "// Print the current clock value\n",
    "print( System.currentTimeMillis() );\n",
    "\n",
    "// Loop\n",
    "for (int i=0; i<5; i++)\n",
    "    print(i);"
   ]
  }
 ],
 "metadata": {
  "kernelspec": {
   "display_name": "Scijava - BeanShell",
   "language": "BeanShell",
   "name": "scijava-beanshell"
  },
  "language_info": {
   "codemirror_mode": "BeanShell",
   "file_extension": "[bsh, bs]",
   "mimetype": "[]",
   "name": "BeanShell",
   "nbconverter_exporter": "",
   "pygments_lexer": "BeanShell",
   "version": "0.3.1"
  }
 },
 "nbformat": 4,
 "nbformat_minor": 2
}
