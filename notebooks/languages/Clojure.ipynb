{
 "cells": [
  {
   "cell_type": "code",
   "execution_count": null,
   "metadata": {
    "collapsed": true
   },
   "outputs": [],
   "source": []
  }
 ],
 "metadata": {
  "kernelspec": {
   "display_name": "Scijava - Clojure",
   "language": "Clojure",
   "name": "scijava-clojure"
  }
 },
 "nbformat": 4,
 "nbformat_minor": 2
}
