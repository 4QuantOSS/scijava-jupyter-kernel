{
 "cells": [
  {
   "cell_type": "code",
   "execution_count": 3,
   "metadata": {},
   "outputs": [
    {
     "data": {
      "text/plain": [
       "1.8.0"
      ]
     },
     "execution_count": 3,
     "metadata": {},
     "output_type": "execute_result"
    }
   ],
   "source": [
    "(clojure-version)"
   ]
  },
  {
   "cell_type": "code",
   "execution_count": 4,
   "metadata": {},
   "outputs": [
    {
     "name": "stdout",
     "output_type": "stream",
     "text": [
      "false!!\n"
     ]
    },
    {
     "data": {
      "text/plain": [
       "null"
      ]
     },
     "execution_count": 4,
     "metadata": {},
     "output_type": "execute_result"
    }
   ],
   "source": [
    "(defmacro unless [test then]\n",
    "       \"Evaluates then when test evaluates to be falsey\"\n",
    "       (list 'if (list 'not test)\n",
    "        then))\n",
    "        \n",
    "(unless false (println \"false!!\"))"
   ]
  }
 ],
 "metadata": {
  "kernelspec": {
   "display_name": "Scijava - Clojure",
   "language": "Clojure",
   "name": "scijava-clojure"
  },
  "language_info": {
   "codemirror_mode": "Clojure",
   "file_extension": "[clj]",
   "mimetype": "[]",
   "name": "Clojure",
   "nbconverter_exporter": "",
   "pygments_lexer": "Clojure",
   "version": "0.1.5"
  }
 },
 "nbformat": 4,
 "nbformat_minor": 2
}
