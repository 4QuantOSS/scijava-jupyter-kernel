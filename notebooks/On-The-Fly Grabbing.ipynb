{
 "cells": [
  {
   "cell_type": "code",
   "execution_count": null,
   "metadata": {
    "collapsed": true
   },
   "outputs": [],
   "source": [
    "# TODO"
   ]
  },
  {
   "cell_type": "code",
   "execution_count": null,
   "metadata": {
    "collapsed": true
   },
   "outputs": [],
   "source": []
  }
 ],
 "metadata": {
  "kernelspec": {
   "display_name": "Scijava - Python",
   "language": "Python",
   "name": "scijava-python"
  },
  "language_info": {
   "codemirror_mode": "Python",
   "file_extension": "[py]",
   "mimetype": "[text/python, application/python, text/x-python, application/x-python]",
   "name": "Python",
   "nbconverter_exporter": "",
   "pygments_lexer": "Python",
   "version": "2.7"
  }
 },
 "nbformat": 4,
 "nbformat_minor": 2
}
