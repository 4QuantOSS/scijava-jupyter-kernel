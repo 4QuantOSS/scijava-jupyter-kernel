{
 "cells": [
  {
   "cell_type": "code",
   "execution_count": 1,
   "metadata": {},
   "outputs": [
    {
     "data": {
      "text/plain": [
       "null"
      ]
     },
     "execution_count": 1,
     "metadata": {},
     "output_type": "execute_result"
    }
   ],
   "source": [
    "#!python\n",
    "# @NotebookService nb"
   ]
  },
  {
   "cell_type": "markdown",
   "metadata": {},
   "source": [
    "**Using `nb.display()`, the kernel will choose automatically the better output format possible according to the type of data.**"
   ]
  },
  {
   "cell_type": "code",
   "execution_count": 37,
   "metadata": {},
   "outputs": [
    {
     "data": {
      "text/plain": [
       "[0, 1, 2, 3, 4, 5, 6, 7, 8, 9]"
      ]
     },
     "execution_count": 37,
     "metadata": {},
     "output_type": "execute_result"
    }
   ],
   "source": [
    "nb.display(range(10))"
   ]
  },
  {
   "cell_type": "code",
   "execution_count": 38,
   "metadata": {},
   "outputs": [
    {
     "data": {
      "text/plain": [
       "{'color': 'blue', 'name': 'Adam'}"
      ]
     },
     "execution_count": 38,
     "metadata": {},
     "output_type": "execute_result"
    }
   ],
   "source": [
    "nb.display(dict(name=\"Adam\", color=\"blue\"))"
   ]
  },
  {
   "cell_type": "markdown",
   "metadata": {},
   "source": [
    "---"
   ]
  },
  {
   "cell_type": "markdown",
   "metadata": {},
   "source": [
    "**Helper methods allow you to force the type of output you want.**"
   ]
  },
  {
   "cell_type": "code",
   "execution_count": 32,
   "metadata": {},
   "outputs": [
    {
     "data": {
      "text/plain": [
       "null"
      ]
     },
     "execution_count": 32,
     "metadata": {},
     "output_type": "execute_result"
    }
   ],
   "source": [
    "nb.displayAsMarkdown(\"\")"
   ]
  },
  {
   "cell_type": "code",
   "execution_count": 35,
   "metadata": {},
   "outputs": [
    {
     "data": {
      "text/latex": [
       "$$\\sum_{i=0}^n i^2 = \f",
       "rac{(n^2+n)(2n+1)}{6}$$"
      ]
     },
     "execution_count": 35,
     "metadata": {},
     "output_type": "execute_result"
    }
   ],
   "source": [
    "nb.displayAsLatex(\"$$\\sum_{i=0}^n i^2 = \\frac{(n^2+n)(2n+1)}{6}$$\")"
   ]
  },
  {
   "cell_type": "code",
   "execution_count": 40,
   "metadata": {},
   "outputs": [
    {
     "data": {
      "image/png": "[encoded data removed]"
     },
     "execution_count": 40,
     "metadata": {},
     "output_type": "execute_result"
    }
   ],
   "source": [
    "nb.displayMimetype(\"image/png\", \"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\")"
   ]
  },
  {
   "cell_type": "code",
   "execution_count": 6,
   "metadata": {},
   "outputs": [
    {
     "data": {
      "text/plain": [
       "null"
      ]
     },
     "execution_count": 6,
     "metadata": {},
     "output_type": "execute_result"
    }
   ],
   "source": [
    "html_code = \"\"\"\n",
    "<html>\n",
    "<head>\n",
    "<style>\n",
    "table {\n",
    "    font-family: arial, sans-serif;\n",
    "    border-collapse: collapse;\n",
    "    width: 100%;\n",
    "}\n",
    "\n",
    "td, th {\n",
    "    border: 1px solid #dddddd;\n",
    "    text-align: left;\n",
    "    padding: 8px;\n",
    "}\n",
    "\n",
    "tr:nth-child(even) {\n",
    "    background-color: #dddddd;\n",
    "}\n",
    "</style>\n",
    "</head>\n",
    "<body>\n",
    "\n",
    "<table>\n",
    "  <tr>\n",
    "    <th>Company</th>\n",
    "    <th>Contact</th>\n",
    "    <th>Country</th>\n",
    "  </tr>\n",
    "  <tr>\n",
    "    <td>Alfreds Futterkiste</td>\n",
    "    <td>Maria Anders</td>\n",
    "    <td>Germany</td>\n",
    "  </tr>\n",
    "  <tr>\n",
    "    <td>Centro comercial Moctezuma</td>\n",
    "    <td>Francisco Chang</td>\n",
    "    <td>Mexico</td>\n",
    "  </tr>\n",
    "  <tr>\n",
    "    <td>Ernst Handel</td>\n",
    "    <td>Roland Mendel</td>\n",
    "    <td>Austria</td>\n",
    "  </tr>\n",
    "</table>\n",
    "\n",
    "</body>\n",
    "</html>\"\"\""
   ]
  },
  {
   "cell_type": "code",
   "execution_count": 7,
   "metadata": {},
   "outputs": [
    {
     "data": {
      "text/html": [
       "\n",
       "<html>\n",
       "<head>\n",
       "<style>\n",
       "table {\n",
       "    font-family: arial, sans-serif;\n",
       "    border-collapse: collapse;\n",
       "    width: 100%;\n",
       "}\n",
       "\n",
       "td, th {\n",
       "    border: 1px solid #dddddd;\n",
       "    text-align: left;\n",
       "    padding: 8px;\n",
       "}\n",
       "\n",
       "tr:nth-child(even) {\n",
       "    background-color: #dddddd;\n",
       "}\n",
       "</style>\n",
       "</head>\n",
       "<body>\n",
       "\n",
       "<table>\n",
       "  <tr>\n",
       "    <th>Company</th>\n",
       "    <th>Contact</th>\n",
       "    <th>Country</th>\n",
       "  </tr>\n",
       "  <tr>\n",
       "    <td>Alfreds Futterkiste</td>\n",
       "    <td>Maria Anders</td>\n",
       "    <td>Germany</td>\n",
       "  </tr>\n",
       "  <tr>\n",
       "    <td>Centro comercial Moctezuma</td>\n",
       "    <td>Francisco Chang</td>\n",
       "    <td>Mexico</td>\n",
       "  </tr>\n",
       "  <tr>\n",
       "    <td>Ernst Handel</td>\n",
       "    <td>Roland Mendel</td>\n",
       "    <td>Austria</td>\n",
       "  </tr>\n",
       "</table>\n",
       "\n",
       "</body>\n",
       "</html>"
      ]
     },
     "execution_count": 7,
     "metadata": {},
     "output_type": "execute_result"
    }
   ],
   "source": [
    "nb.displayAsHTML(html_code)"
   ]
  }
 ],
 "metadata": {
  "kernelspec": {
   "display_name": "Scijava - Python",
   "language": "Python",
   "name": "scijava-python"
  },
  "language_info": {
   "codemirror_mode": "groovy",
   "file_extension": "",
   "mimetype": "",
   "name": "scijava",
   "nbconverter_exporter": "",
   "pygments_lexer": "groovy",
   "version": "1.0"
  }
 },
 "nbformat": 4,
 "nbformat_minor": 2
}
