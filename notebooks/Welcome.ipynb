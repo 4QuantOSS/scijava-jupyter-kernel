{
 "cells": [
  {
   "cell_type": "markdown",
   "metadata": {},
   "source": [
    "# Welcome to the Scijava Jupyter Kernel\n",
    "\n",
    "*If you haven't checked the introduction and installation instructions of the `scijava-jupyter-kernel` yet, please [click here](https://github.com/hadim/scijava-jupyter-kernel).*\n",
    "\n",
    "The goal of this serie of notebooks is to introduce you some of the features of the `scijava-jupyter-kernel`.\n",
    "\n",
    "Note that those notebooks are not an introduction course to the diverse languages supported by the `scijava-jupyter-kernel`. Neither it's an introduction to imaging analysis with ImageJ. Check the amazing [ImageJ website](https://imagej.net/) for this.\n",
    "\n",
    "---\n",
    "\n",
    "A list of notebooks highlighting the **Scijava Jupyter Kernel** specific features : \n",
    "\n",
    "- [General](./General.ipynb) : Introduction to the general features (Groovy).\n",
    "- [Rich Output](./Rich Output.ipynb) : Automatic output conversion (Python). \n",
    "- [On-The-Fly Grabbing](./On-The-Fly Grabbing.ipynb) : How to dynamically download an load libraries ? (Python)\n",
    "- [Scijava](./Scijava.ipynb) : Scijava specific features (Groovy).\n",
    "- [ImageJ](./ImageJ.ipynb) : ImageJ specific features (Groovy).\n",
    "\n",
    "---\n",
    "\n",
    "A list of notebooks highlighting the different scripting languages supported by the **Scijava Jupyter Kernel** : \n",
    "\n",
    "- [Python](./languages/Python.ipynb)\n",
    "- [Groovy](./languages/Groovy.ipynb)\n",
    "- [Scala](./languages/Scala.ipynb)\n",
    "- [Javascript](./languages/Javascript.ipynb)\n",
    "- [Beanshell](./languages/Beanshell.ipynb)\n",
    "- [Clojure](./languages/Clojure.ipynb)\n",
    "\n",
    "---\n",
    "\n",
    "*Help is always welcome to improve those notebooks. Don't hesitate [to submit your ideas](https://github.com/hadim/scijava-jupyter-kernel/pulls).*"
   ]
  }
 ],
 "metadata": {
  "kernelspec": {
   "display_name": "Scijava - Python",
   "language": "Python",
   "name": "scijava-python"
  },
  "language_info": {
   "codemirror_mode": "groovy",
   "file_extension": "",
   "mimetype": "",
   "name": "scijava",
   "nbconverter_exporter": "",
   "pygments_lexer": "groovy",
   "version": "1.0"
  }
 },
 "nbformat": 4,
 "nbformat_minor": 2
}
